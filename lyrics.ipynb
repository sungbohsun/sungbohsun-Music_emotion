{
 "cells": [
  {
   "cell_type": "code",
   "execution_count": 34,
   "metadata": {},
   "outputs": [],
   "source": [
    "import torch\n",
    "import pandas as pd\n",
    "\n",
    "from glob import glob\n",
    "from tqdm.notebook import tqdm"
   ]
  },
  {
   "cell_type": "code",
   "execution_count": 68,
   "metadata": {},
   "outputs": [],
   "source": [
    "#DEAM沒有提供歌名\n",
    "#PME lyrics proccess\n",
    "\n",
    "files = glob('./data/PME/lyrics/*.lrc')\n",
    "dic = {}\n",
    "for file in files:\n",
    "    with open(file) as f:\n",
    "        ID = file.split('/')[-1].split('.')[0]\n",
    "        texts = f.read()\n",
    "        lyrics = ''.join([text.split(']')[1] for text in texts.split('\\n') if (len(text.split(']')) > 1 and text.split(']')[1] != '')]).replace(\"\\'\",\"\")\n",
    "        dic[ID] = lyrics\n",
    "torch.save(dic,'./data/dic_PME_lyrics.pt')        "
   ]
  },
  {
   "cell_type": "code",
   "execution_count": 37,
   "metadata": {},
   "outputs": [
    {
     "data": {
      "application/vnd.jupyter.widget-view+json": {
       "model_id": "83aa49d7019946038248ef85a69ea9b7",
       "version_major": 2,
       "version_minor": 0
      },
      "text/plain": [
       "  0%|          | 0/900 [00:00<?, ?it/s]"
      ]
     },
     "metadata": {},
     "output_type": "display_data"
    }
   ],
   "source": [
    "# download Q4 lyrics from musixmatch\n",
    "# 版權問題只能顯示30%歌詞\n",
    "\n",
    "df_Q4  = pd.read_csv('./data/Q4_MER/panda_dataset_taffc_metadata.csv', encoding = \"ISO-8859-1\")\n",
    "from musixmatch import Musixmatch\n",
    "dic = {}\n",
    "musixmatch = Musixmatch('919023a303de11595b292d0106779f6c')\n",
    "for artist,title,ID in tqdm(zip(df_Q4['Artist'],df_Q4['Title'],df_Q4['Song']),total=len(df_Q4)):\n",
    "    lyrics = musixmatch.matcher_lyrics_get(title,artist)\n",
    "    for message in lyrics:\n",
    "        for body in lyrics[message]:\n",
    "            if body == \"body\":\n",
    "                for lyric in lyrics[message][body]:\n",
    "                    for lyrBod in lyrics[message][body][lyric]:\n",
    "                        if lyrBod == \"lyrics_body\":\n",
    "                            dic[ID] = lyrics[message][body][lyric][lyrBod]"
   ]
  },
  {
   "cell_type": "code",
   "execution_count": 61,
   "metadata": {},
   "outputs": [],
   "source": [
    "dic_pre = {}\n",
    "keys = list(dic.keys())\n",
    "for key in keys:\n",
    "    dic_pre[key] = ''.join(dic[key].split('*******')[0].split('\\n'))\n",
    "    if dic_pre[key] == '':\n",
    "        dic_pre.pop(key)\n",
    "torch.save(dic_pre,'./data/dic_Q4_lyrics.pt')"
   ]
  },
  {
   "cell_type": "code",
   "execution_count": 22,
   "metadata": {},
   "outputs": [
    {
     "name": "stdout",
     "output_type": "stream",
     "text": [
      "have 629 lyrics\n"
     ]
    },
    {
     "data": {
      "text/plain": [
       "<seaborn.axisgrid.FacetGrid at 0x7f3b940f0090>"
      ]
     },
     "execution_count": 22,
     "metadata": {},
     "output_type": "execute_result"
    },
    {
     "data": {
      "text/plain": [
       "<Figure size 1152x432 with 0 Axes>"
      ]
     },
     "metadata": {},
     "output_type": "display_data"
    },
    {
     "data": {
      "image/png": "[encoded data removed]",
      "text/plain": [
       "<Figure size 360x360 with 1 Axes>"
      ]
     },
     "metadata": {},
     "output_type": "display_data"
    }
   ],
   "source": [
    "import torch\n",
    "import seaborn as sns\n",
    "import matplotlib.pyplot as plt \n",
    "pt = torch.load('./data/dic_PME_lyrics.pt')\n",
    "L_PME = [len(l) for l in list(pt.values())]\n",
    "print('have {} lyrics'.format(len(list(pt.keys()))))\n",
    "plt.figure(figsize=(16, 6))\n",
    "sns.displot(L_PME)"
   ]
  },
  {
   "cell_type": "code",
   "execution_count": 19,
   "metadata": {},
   "outputs": [
    {
     "name": "stdout",
     "output_type": "stream",
     "text": [
      "have 479 lyrics\n"
     ]
    },
    {
     "data": {
      "text/plain": [
       "<seaborn.axisgrid.FacetGrid at 0x7f3b9433c8d0>"
      ]
     },
     "execution_count": 19,
     "metadata": {},
     "output_type": "execute_result"
    },
    {
     "data": {
      "image/png": "[encoded data removed]",
      "text/plain": [
       "<Figure size 360x360 with 1 Axes>"
      ]
     },
     "metadata": {},
     "output_type": "display_data"
    }
   ],
   "source": [
    "pt = torch.load('./data/dic_Q4_lyrics.pt')\n",
    "L_Q4 = [len(l) for l in list(pt.values())]\n",
    "print('have {} lyrics'.format(len(list(pt.keys()))))\n",
    "sns.displot(L_Q4)"
   ]
  },
  {
   "cell_type": "code",
   "execution_count": 25,
   "metadata": {},
   "outputs": [
    {
     "data": {
      "text/plain": [
       "<seaborn.axisgrid.FacetGrid at 0x7f3b8de38f10>"
      ]
     },
     "execution_count": 25,
     "metadata": {},
     "output_type": "execute_result"
    },
    {
     "data": {
      "image/png": "[encoded data removed]",
      "text/plain": [
       "<Figure size 360x360 with 1 Axes>"
      ]
     },
     "metadata": {},
     "output_type": "display_data"
    }
   ],
   "source": [
    "sns.displot(L_PME+L_Q4)"
   ]
  },
  {
   "cell_type": "code",
   "execution_count": null,
   "metadata": {},
   "outputs": [],
   "source": []
  }
 ],
 "metadata": {
  "kernelspec": {
   "display_name": "Python 3",
   "language": "python",
   "name": "python3"
  },
  "language_info": {
   "codemirror_mode": {
    "name": "ipython",
    "version": 3
   },
   "file_extension": ".py",
   "mimetype": "text/x-python",
   "name": "python",
   "nbconvert_exporter": "python",
   "pygments_lexer": "ipython3",
   "version": "3.7.8"
  }
 },
 "nbformat": 4,
 "nbformat_minor": 4
}
